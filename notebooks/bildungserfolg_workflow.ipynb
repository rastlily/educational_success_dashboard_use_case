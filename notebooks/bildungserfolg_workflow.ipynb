{
 "cells": [
  {
   "cell_type": "markdown",
   "id": "c68bb950",
   "metadata": {},
   "source": [
    "# <h1 style=\"text-align:center;\">**Bildungserfolg in Deutschland -**</h1> \n",
    "# <h1 style=\"text-align:center;\">Regionale, sozioökonomische und migrationsbedingte Ungleichheiten</h1>"
   ]
  },
  {
   "cell_type": "markdown",
   "id": "4e13e0ba",
   "metadata": {},
   "source": [
    "**Autoren:** \n",
    "   \n",
    "Liliia Rastorhuieva - Datenbereinigung, Datenanalyse und Visualisierung (Tableau)  \n",
    "Christoph Müller - Datensammlung, Quellenrecherche und Präsentationserstellung"
   ]
  },
  {
   "cell_type": "markdown",
   "id": "29357891",
   "metadata": {},
   "source": [
    "# 1. Ziel und Datensammlung\n",
    "\n",
    "**Ziel:**    \n",
    " Analyse und Visualisierung von Bildungsungleichheiten in Deutschland nach regionalen, sozioökonomischen und migrationsbezogenen Faktoren.\n",
    " \n",
    "\n",
    "**Datenquellen:**\n",
    "\n",
    "   - Destatis (Statistisches Bundesamt): (Absolventen und Abgänger nach Bundesland, Geschlecht, Schulart (Code: 21111-0013)\n",
    ", Bevölkerung ab 15 Jahren nach Bildungsabschluss und Migrationsstatus (Code: 12211-0206), Bildungsstand der Bevölkerung (2022))\n",
    "\n",
    "- Autorengruppe Bildungsberichterstattung (2024): Bildung in Deutschland 2024\n",
    "\n",
    "- IQB-Bildungstrend 2021 (Sonderauswertung): Kompetenzunterschiede nach sozialem und migrationsbezogenem Hintergrund  \n",
    "\n",
    "**Workflow:**  \n",
    "  \n",
    "Datensammlung --> Datenvorbereitung & Normalisierung --> Dashboard & Visualisierung (Tableau) --> Presentation (Insights)"
   ]
  },
  {
   "cell_type": "markdown",
   "id": "6fd1d40f",
   "metadata": {},
   "source": [
    "# 2. Datenvorbereitung & Normalisierung:  \n",
    "  \n",
    "Die Rohdaten lagen in einer nicht tabellenkonformen Struktur vor - mit gruppierten Überschriften und verschachtelten Unterkategorien.  \n",
    "Für Tableau musste die Tabelle in den Long-Format umgewandelt werden, damit jedes Merkmal (Bundesland, Schulabschluss, Geschlecht, Jahr, Wert) in einer eigenen Spalte steht.\n",
    "\n"
   ]
  },
  {
   "cell_type": "markdown",
   "id": "7ea0582b",
   "metadata": {},
   "source": [
    "- Bereinigung, Filterung & Normalisierung in Python (Pandas):"
   ]
  },
  {
   "cell_type": "markdown",
   "id": "2ae0a276",
   "metadata": {},
   "source": [
    "![Schulabschlüsse nach Bundesland](../visual/ETL_1.jpg)"
   ]
  },
  {
   "cell_type": "markdown",
   "id": "6304c5db",
   "metadata": {},
   "source": [
    "- Aufbereitung & Transformation in Excel:"
   ]
  },
  {
   "cell_type": "markdown",
   "id": "ff4a9b9e",
   "metadata": {},
   "source": [
    "![Schulabschlüsse nach Bundesland](../visual/ETL_2.jpg)"
   ]
  },
  {
   "cell_type": "markdown",
   "id": "90c003b0",
   "metadata": {},
   "source": [
    "- Export in optimierte CSV-Dateien für Tableau  \n",
    "- Validierung der Datenqualität vor Visualisierung"
   ]
  },
  {
   "cell_type": "markdown",
   "id": "3e29ee0b",
   "metadata": {},
   "source": [
    "# 3. Dashboard & Visualisierung:"
   ]
  },
  {
   "cell_type": "markdown",
   "id": "846a1133",
   "metadata": {},
   "source": [
    "**Entwicklung des Dashboards:**  \n",
    "Eigenständig konzipiertes interaktives Tableau-Dashboard für die Analyse von Bildungsergebnissen.  \n",
    "- Interaktive Filterfunktionen für Region, Geschlecht, Migrationshintergrund und sozioökonomischen Status implementiert.  \n",
    "- Regionale Visualisierung über GeoJSON-Karten und alle Diagramme gemäß analytischer Planung umgesetzt."
   ]
  },
  {
   "cell_type": "markdown",
   "id": "8f6e82dd",
   "metadata": {},
   "source": [
    "[Tableau Dashboard ansehen](https://public.tableau.com/app/profile/liliia.rastorhuieva/viz/BildungserfolginDeutschlandRegionalesozialeundmigrationsbedingteUngleichheiten_/RegionaleBildungsunterschiedeinDeutschlandEntwicklung20132022_)"
   ]
  },
  {
   "cell_type": "markdown",
   "id": "24532abe",
   "metadata": {},
   "source": [
    "![Beschreibung](../visual/animation.gif)\n"
   ]
  },
  {
   "cell_type": "markdown",
   "id": "24eacd44",
   "metadata": {},
   "source": [
    "# 4. Presentation (Insights):"
   ]
  },
  {
   "cell_type": "markdown",
   "id": "8a711d90",
   "metadata": {},
   "source": [
    "Key Insights\n",
    "\n",
    "1. **Sozialer Status der Eltern:**  \n",
    "   - Hoher Status - Kinder erhalten häufiger Gymnasialempfehlung (78% vs. 32%)  \n",
    "   - Einfluss bleibt auch bei gleichen Noten bestehen  \n",
    "\n",
    "2. **Bildungsabschluss der Eltern:**  \n",
    "   - Eltern ohne Abschluss - Kinder erreichen meist nur Basisabschluss  \n",
    "   - Eltern mit Hochschulreife - höhere Chance auf Gymnasium (67,1%)  \n",
    "\n",
    "3. **Migrationshintergrund:**  \n",
    "   - Absolutzahlen zeigen niedrigere Anzahl an Diplom-/Masterabschlüssen  \n",
    "   - Prozentwerte verdeutlichen Unterschiede im Bildungserfolg  \n",
    "\n",
    "4. **Regionale Unterschiede:**  \n",
    "   - Interaktive Deutschlandkarte zeigt Unterschiede der Bildungsabschlüsse zwischen Bundesländern  \n",
    "   - Filter ermöglichen gezielte Analyse einzelner Regionen (z. B. Hamburg)  \n",
    "\n",
    "*Die vollständige Präsentation ist den Anhängen des Projekts beigefügt.\n"
   ]
  }
 ],
 "metadata": {
  "kernelspec": {
   "display_name": "base",
   "language": "python",
   "name": "python3"
  },
  "language_info": {
   "codemirror_mode": {
    "name": "ipython",
    "version": 3
   },
   "file_extension": ".py",
   "mimetype": "text/x-python",
   "name": "python",
   "nbconvert_exporter": "python",
   "pygments_lexer": "ipython3",
   "version": "3.12.7"
  }
 },
 "nbformat": 4,
 "nbformat_minor": 5
}
